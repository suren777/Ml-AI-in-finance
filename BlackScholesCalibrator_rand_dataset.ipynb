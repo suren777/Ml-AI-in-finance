{
  "nbformat": 4,
  "nbformat_minor": 0,
  "metadata": {
    "orig_nbformat": 2,
    "file_extension": ".py",
    "mimetype": "text/x-python",
    "name": "python",
    "npconvert_exporter": "python",
    "pygments_lexer": "ipython3",
    "version": 3,
    "colab": {
      "name": "BlackScholesCalibrator_rand_dataset.ipynb",
      "provenance": [],
      "collapsed_sections": [],
      "include_colab_link": true
    },
    "kernelspec": {
      "name": "python3",
      "display_name": "Python 3"
    },
    "accelerator": "GPU"
  },
  "cells": [
    {
      "cell_type": "markdown",
      "metadata": {
        "id": "view-in-github",
        "colab_type": "text"
      },
      "source": [
        "<a href=\"https://colab.research.google.com/github/suren777/Ml-AI-in-finance/blob/master/BlackScholesCalibrator_rand_dataset.ipynb\" target=\"_parent\"><img src=\"https://colab.research.google.com/assets/colab-badge.svg\" alt=\"Open In Colab\"/></a>"
      ]
    },
    {
      "cell_type": "markdown",
      "metadata": {
        "id": "YIIg1KHaNrKd",
        "colab_type": "text"
      },
      "source": [
        "# Black-Scholes calibrator\n",
        "## Introduction\n",
        "* This example is created to show the capacity of AI in finance. We want to show that neural network is capable of learning the relationship between option price and implied volatility.\n",
        "\n",
        "* We will look at a simplified version of so called **\"Deep Volatility\"** problem. In the nutshell we want to generate implied volatilities from market inputs such as interest rate, spot, maturity, strike and option price. There is no analytical solution to the problem since the relationship is non-linear. Traditional solution would be using numerical methods to calibrate the implied volatility, which can be resource heavy when we need to calibrate multiple implied volatilities.\n",
        "\n",
        "* We want to show that there is another way."
      ]
    },
    {
      "cell_type": "code",
      "metadata": {
        "id": "40zdHYFlaFgR",
        "colab_type": "code",
        "outputId": "db84ec63-dabf-4de1-d7d0-220a323072e8",
        "colab": {
          "base_uri": "https://localhost:8080/",
          "height": 68
        }
      },
      "source": [
        "%matplotlib inline\n",
        "import matplotlib.pyplot as plt\n",
        "!pip install -q tensorflow-gpu==2.0.0-beta1\n",
        "import tensorflow as tf\n",
        "from tensorflow import keras\n",
        "from tensorflow.keras import layers\n",
        "from tensorflow.keras import callbacks\n",
        "from scipy.optimize import bisect\n",
        "import numpy as np\n",
        "from time import time\n",
        "import pandas as pd\n",
        "from scipy.stats import norm\n",
        "import seaborn as sns\n",
        "sns.set_context(\"notebook\", font_scale=0.9, rc={\"lines.linewidth\": 2.5})\n",
        "sns.set_style('dark')"
      ],
      "execution_count": 0,
      "outputs": [
        {
          "output_type": "stream",
          "text": [
            "\u001b[K     |████████████████████████████████| 348.9MB 71kB/s \n",
            "\u001b[K     |████████████████████████████████| 3.1MB 29.5MB/s \n",
            "\u001b[K     |████████████████████████████████| 501kB 41.3MB/s \n",
            "\u001b[?25h"
          ],
          "name": "stdout"
        }
      ]
    },
    {
      "cell_type": "markdown",
      "metadata": {
        "id": "J5dMgNWzPxQZ",
        "colab_type": "text"
      },
      "source": [
        "## Define dataset generator\n",
        "* We first want to create dataset for our problem using randomly generated marked data and BS option pricing formula to generate corresponding option prices. To do so, we will introduce following functions.\n",
        "\n",
        "* In addition, we will define an implied volatility calibrator using bisection method."
      ]
    },
    {
      "cell_type": "code",
      "metadata": {
        "id": "xz-HmdJPaFgV",
        "colab_type": "code",
        "colab": {}
      },
      "source": [
        "def blackScholesPriceTrue(S0, r, K, T, vol):\n",
        "    F = S0*np.exp(-r*T)\n",
        "    Strike = S0*K\n",
        "    sqt = vol * np.sqrt(T)\n",
        "    d1 = (np.log(F / Strike) + 0.5 * vol* vol * T)/sqt\n",
        "    d2 = d1 - sqt\n",
        "    n1 = norm.cdf(d1)1\n",
        "    n2 = norm.cdf(d2)\n",
        "    return n1 - Strike/F * n2\n",
        "\n",
        "def impliedVol(S0, r, K, T, optPrice):\n",
        "    def objFunc(vol):\n",
        "        return blackScholesPriceTrue(S0, r, K, T, vol) - optPrice\n",
        "    return bisect(objFunc, 0.0001, 1.0, xtol=0.01)\n",
        "\n",
        "\n",
        "def createDataset(size):\n",
        "    S0 = np.random.normal(100, 50, size=size)\n",
        "    r = np.random.uniform(.005,0.02, size)\n",
        "    K = np.random.uniform(0.8,1.2, size)\n",
        "    T = np.random.uniform(0.5,1,size)\n",
        "    vol = np.random.lognormal(-2,0.4, size)\n",
        "    options = blackScholesPriceTrue(S0, r, K, T, vol)\n",
        "    columns = \"spots,rates,strikes,tenors,optionPrices,vols\".split(',')\n",
        "    data = np.array([S0, r, K, T, options, vol])\n",
        "    data = pd.DataFrame(data=data.T, columns=columns)\n",
        "    data = data[data[\"optionPrices\"]>=0.01]\n",
        "    data = data[data[\"spots\"]>=0.01]\n",
        "    return data"
      ],
      "execution_count": 0,
      "outputs": []
    },
    {
      "cell_type": "markdown",
      "metadata": {
        "id": "TEY6vnsJQicv",
        "colab_type": "text"
      },
      "source": [
        "* Generate sample and see the bottom part of the dataset"
      ]
    },
    {
      "cell_type": "code",
      "metadata": {
        "id": "cBZrH928aFgY",
        "colab_type": "code",
        "outputId": "b2a4229c-4d6f-45cf-d27c-0eb22ecbf860",
        "colab": {
          "base_uri": "https://localhost:8080/",
          "height": 204
        }
      },
      "source": [
        "sample_size = 500000\n",
        "data = createDataset(sample_size)\n",
        "data.tail()"
      ],
      "execution_count": 0,
      "outputs": [
        {
          "output_type": "execute_result",
          "data": {
            "text/html": [
              "<div>\n",
              "<style scoped>\n",
              "    .dataframe tbody tr th:only-of-type {\n",
              "        vertical-align: middle;\n",
              "    }\n",
              "\n",
              "    .dataframe tbody tr th {\n",
              "        vertical-align: top;\n",
              "    }\n",
              "\n",
              "    .dataframe thead th {\n",
              "        text-align: right;\n",
              "    }\n",
              "</style>\n",
              "<table border=\"1\" class=\"dataframe\">\n",
              "  <thead>\n",
              "    <tr style=\"text-align: right;\">\n",
              "      <th></th>\n",
              "      <th>spots</th>\n",
              "      <th>rates</th>\n",
              "      <th>strikes</th>\n",
              "      <th>tenors</th>\n",
              "      <th>optionPrices</th>\n",
              "      <th>vols</th>\n",
              "    </tr>\n",
              "  </thead>\n",
              "  <tbody>\n",
              "    <tr>\n",
              "      <th>499994</th>\n",
              "      <td>142.521594</td>\n",
              "      <td>0.014056</td>\n",
              "      <td>0.893315</td>\n",
              "      <td>0.646769</td>\n",
              "      <td>0.111399</td>\n",
              "      <td>0.152416</td>\n",
              "    </tr>\n",
              "    <tr>\n",
              "      <th>499996</th>\n",
              "      <td>62.698774</td>\n",
              "      <td>0.014801</td>\n",
              "      <td>1.038123</td>\n",
              "      <td>0.795400</td>\n",
              "      <td>0.066310</td>\n",
              "      <td>0.245248</td>\n",
              "    </tr>\n",
              "    <tr>\n",
              "      <th>499997</th>\n",
              "      <td>47.195039</td>\n",
              "      <td>0.013657</td>\n",
              "      <td>0.876517</td>\n",
              "      <td>0.879120</td>\n",
              "      <td>0.134404</td>\n",
              "      <td>0.177115</td>\n",
              "    </tr>\n",
              "    <tr>\n",
              "      <th>499998</th>\n",
              "      <td>104.088023</td>\n",
              "      <td>0.014231</td>\n",
              "      <td>0.805193</td>\n",
              "      <td>0.759014</td>\n",
              "      <td>0.190884</td>\n",
              "      <td>0.168499</td>\n",
              "    </tr>\n",
              "    <tr>\n",
              "      <th>499999</th>\n",
              "      <td>76.292529</td>\n",
              "      <td>0.019127</td>\n",
              "      <td>0.825297</td>\n",
              "      <td>0.505546</td>\n",
              "      <td>0.176433</td>\n",
              "      <td>0.228747</td>\n",
              "    </tr>\n",
              "  </tbody>\n",
              "</table>\n",
              "</div>"
            ],
            "text/plain": [
              "             spots     rates   strikes    tenors  optionPrices      vols\n",
              "499994  142.521594  0.014056  0.893315  0.646769      0.111399  0.152416\n",
              "499996   62.698774  0.014801  1.038123  0.795400      0.066310  0.245248\n",
              "499997   47.195039  0.013657  0.876517  0.879120      0.134404  0.177115\n",
              "499998  104.088023  0.014231  0.805193  0.759014      0.190884  0.168499\n",
              "499999   76.292529  0.019127  0.825297  0.505546      0.176433  0.228747"
            ]
          },
          "metadata": {
            "tags": []
          },
          "execution_count": 12
        }
      ]
    },
    {
      "cell_type": "markdown",
      "metadata": {
        "id": "eSL4LGNEQpQ-",
        "colab_type": "text"
      },
      "source": [
        "* We will split dataset in training and test sets\n",
        "* For machine-learning purposes we will need to normalise our inputs."
      ]
    },
    {
      "cell_type": "code",
      "metadata": {
        "id": "ta3XhD3MaFgb",
        "colab_type": "code",
        "colab": {}
      },
      "source": [
        "train_data = data.sample(frac=0.8,random_state=0)\n",
        "test_data = data.drop(train_data.index)\n",
        "train_stats = train_data.describe()\n",
        "train_stats.pop(\"vols\")\n",
        "train_stats = train_stats.transpose()\n",
        "\n",
        "train_labels = train_data.pop('vols')\n",
        "test_labels = test_data.pop('vols')\n",
        "\n",
        "def normalize(x):\n",
        "    return (x - train_stats['mean']) / train_stats['std']\n",
        "\n",
        "normed_train_data = normalize(train_data)\n",
        "normed_test_data = normalize(test_data)"
      ],
      "execution_count": 0,
      "outputs": []
    },
    {
      "cell_type": "markdown",
      "metadata": {
        "id": "iXSkQQvFQ8b2",
        "colab_type": "text"
      },
      "source": [
        "## Neural network\n",
        "We will setup a neural network using Keras library inside tensorflow module "
      ]
    },
    {
      "cell_type": "code",
      "metadata": {
        "id": "Qim9GOXiaFgi",
        "colab_type": "code",
        "outputId": "c438ba34-6125-4b54-b8f3-512cb0908475",
        "colab": {
          "base_uri": "https://localhost:8080/",
          "height": 391
        }
      },
      "source": [
        "h_layers = 256\n",
        "model=keras.Sequential( [\n",
        "    layers.Dense(h_layers, activation='tanh', input_shape=[len(train_data.keys())]),\n",
        "    layers.Dense(h_layers, activation=\"tanh\"),\n",
        "    layers.Dense(h_layers, activation=\"tanh\"),\n",
        "    layers.Dense(h_layers, activation=\"tanh\"),\n",
        "    layers.Dense(h_layers, activation=\"tanh\"),\n",
        "    layers.Dense(1, activation=\"elu\"),\n",
        "    layers.Dense(1)])\n",
        "optimizer = tf.keras.optimizers.RMSprop(0.01)\n",
        "model.compile(loss='mse',\n",
        "            optimizer=optimizer,\n",
        "            metrics=['mae', 'mse'])\n",
        "model.summary()"
      ],
      "execution_count": 0,
      "outputs": [
        {
          "output_type": "stream",
          "text": [
            "Model: \"sequential\"\n",
            "_________________________________________________________________\n",
            "Layer (type)                 Output Shape              Param #   \n",
            "=================================================================\n",
            "dense (Dense)                (None, 256)               1536      \n",
            "_________________________________________________________________\n",
            "dense_1 (Dense)              (None, 256)               65792     \n",
            "_________________________________________________________________\n",
            "dense_2 (Dense)              (None, 256)               65792     \n",
            "_________________________________________________________________\n",
            "dense_3 (Dense)              (None, 256)               65792     \n",
            "_________________________________________________________________\n",
            "dense_4 (Dense)              (None, 256)               65792     \n",
            "_________________________________________________________________\n",
            "dense_5 (Dense)              (None, 1)                 257       \n",
            "_________________________________________________________________\n",
            "dense_6 (Dense)              (None, 1)                 2         \n",
            "=================================================================\n",
            "Total params: 264,963\n",
            "Trainable params: 264,963\n",
            "Non-trainable params: 0\n",
            "_________________________________________________________________\n"
          ],
          "name": "stdout"
        }
      ]
    },
    {
      "cell_type": "markdown",
      "metadata": {
        "id": "boe3l1ljRJpX",
        "colab_type": "text"
      },
      "source": [
        "Calibration of the neural network"
      ]
    },
    {
      "cell_type": "code",
      "metadata": {
        "id": "wn3XQdzzaFgk",
        "colab_type": "code",
        "outputId": "fdc97926-bbfc-4184-c7be-ea734d1f82a1",
        "colab": {
          "base_uri": "https://localhost:8080/",
          "height": 204
        }
      },
      "source": [
        "modelFile = 'bsCalibratorModel.hdf5'\n",
        "epochs = 1000\n",
        "\n",
        "checkpoint = callbacks.ModelCheckpoint(modelFile, monitor='val_loss')\n",
        "reduce_lr = callbacks.ReduceLROnPlateau(monitor='val_loss', factor=0.2, patience=10, min_lr=0.000001)\n",
        "early_stop = keras.callbacks.EarlyStopping(monitor='val_loss', patience=100)\n",
        "\n",
        "class PrintDot(keras.callbacks.Callback):\n",
        "    def on_epoch_end(self, epoch, logs):\n",
        "        if epoch % 100 == 0: print('')\n",
        "        print('.', end='')\n",
        "    \n",
        "history = model.fit(normed_train_data, train_labels,  batch_size=2048,\n",
        "    epochs=epochs, validation_split = 0.2, verbose=0, shuffle=True,\n",
        "    callbacks=[PrintDot(), checkpoint, reduce_lr, early_stop])"
      ],
      "execution_count": 0,
      "outputs": [
        {
          "output_type": "stream",
          "text": [
            "\n",
            "....................................................................................................\n",
            "....................................................................................................\n",
            "....................................................................................................\n",
            "....................................................................................................\n",
            "....................................................................................................\n",
            "....................................................................................................\n",
            "....................................................................................................\n",
            "....................................................................................................\n",
            "....................................................................................................\n",
            "...................................................................................................."
          ],
          "name": "stdout"
        }
      ]
    },
    {
      "cell_type": "markdown",
      "metadata": {
        "id": "eKylxIMRRQQf",
        "colab_type": "text"
      },
      "source": [
        "Prepare outputs.\n",
        "* In this section we will see how network performed during the training."
      ]
    },
    {
      "cell_type": "code",
      "metadata": {
        "id": "m-tTcLnNaFgm",
        "colab_type": "code",
        "outputId": "f576d96b-e140-4119-b270-f866d01e4c49",
        "colab": {
          "base_uri": "https://localhost:8080/",
          "height": 559
        }
      },
      "source": [
        "def plot_history(history):\n",
        "    hist = pd.DataFrame(history.history)\n",
        "    hist['epoch'] = history.epoch\n",
        "  \n",
        "    plt.figure()\n",
        "    plt.xlabel('Epoch')\n",
        "    plt.ylabel('Mean Abs Error [Vols]')\n",
        "    plt.plot(hist['epoch'], hist['mae'],\n",
        "             label='Train Error')\n",
        "    plt.plot(hist['epoch'], hist['val_mae'],\n",
        "             label = 'Val Error')\n",
        "    plt.legend()\n",
        "  \n",
        "    plt.figure()\n",
        "    plt.xlabel('Epoch')\n",
        "    plt.ylabel('Mean Square Error [$vol^2$]')\n",
        "    plt.plot(hist['epoch'], hist['mse'],\n",
        "             label='Train Error')\n",
        "    plt.plot(hist['epoch'], hist['val_mse'],\n",
        "             label = 'Val Error')\n",
        "    plt.legend()\n",
        "\n",
        "  \n",
        "  \n",
        "plot_history(history)"
      ],
      "execution_count": 0,
      "outputs": [
        {
          "output_type": "display_data",
          "data": {
            "image/png": "[encoded data removed]",
            "text/plain": [
              "<Figure size 432x288 with 1 Axes>"
            ]
          },
          "metadata": {
            "tags": []
          }
        },
        {
          "output_type": "display_data",
          "data": {
            "image/png": "[encoded data removed]",
            "text/plain": [
              "<Figure size 432x288 with 1 Axes>"
            ]
          },
          "metadata": {
            "tags": []
          }
        }
      ]
    },
    {
      "cell_type": "markdown",
      "metadata": {
        "id": "0dWJkS6nRgSs",
        "colab_type": "text"
      },
      "source": [
        "## Summary\n",
        "We will loook how the network performing on the test data."
      ]
    },
    {
      "cell_type": "code",
      "metadata": {
        "id": "BtAvue20aFgo",
        "colab_type": "code",
        "outputId": "bac7d2d1-685d-4b3e-b9c0-88ecd66269f7",
        "colab": {
          "base_uri": "https://localhost:8080/",
          "height": 305
        }
      },
      "source": [
        "test_predictions = model.predict(normed_test_data).flatten()\n",
        "\n",
        "plt.scatter(test_labels, test_predictions)\n",
        "plt.xlabel('True Values vol')\n",
        "plt.ylabel('Predictions vol')\n",
        "plt.axis('equal')\n",
        "plt.axis('square')\n",
        "plt.xlim([0.1, 0.5])\n",
        "plt.ylim([0.1, 0.5])"
      ],
      "execution_count": 0,
      "outputs": [
        {
          "output_type": "execute_result",
          "data": {
            "text/plain": [
              "(0.1, 0.5)"
            ]
          },
          "metadata": {
            "tags": []
          },
          "execution_count": 19
        },
        {
          "output_type": "display_data",
          "data": {
            "image/png": "[encoded data removed]",
            "text/plain": [
              "<Figure size 432x288 with 1 Axes>"
            ]
          },
          "metadata": {
            "tags": []
          }
        }
      ]
    },
    {
      "cell_type": "code",
      "metadata": {
        "id": "8RmSbuB4aFgq",
        "colab_type": "code",
        "outputId": "4ca800dc-f1f4-48fc-a146-0dad0d6bcff9",
        "colab": {
          "base_uri": "https://localhost:8080/",
          "height": 305
        }
      },
      "source": [
        "error = test_predictions - test_labels\n",
        "plt.hist(error, bins = 50)\n",
        "plt.xlabel(\"Prediction Error [vols]\")"
      ],
      "execution_count": 0,
      "outputs": [
        {
          "output_type": "execute_result",
          "data": {
            "text/plain": [
              "Text(0.5, 0, 'Prediction Error [vols]')"
            ]
          },
          "metadata": {
            "tags": []
          },
          "execution_count": 26
        },
        {
          "output_type": "display_data",
          "data": {
            "image/png": "[encoded data removed]",
            "text/plain": [
              "<Figure size 432x288 with 1 Axes>"
            ]
          },
          "metadata": {
            "tags": []
          }
        }
      ]
    },
    {
      "cell_type": "markdown",
      "metadata": {
        "id": "aTdlkyknRtCs",
        "colab_type": "text"
      },
      "source": [
        "### Speed Benchmark against classic approach"
      ]
    },
    {
      "cell_type": "code",
      "metadata": {
        "id": "bXdeF4Vi5GXg",
        "colab_type": "code",
        "colab": {}
      },
      "source": [
        "#Test Speed\n",
        "ai_speed = time()\n",
        "ivols_dl = model.predict(normed_test_data).flatten()\n",
        "ai_speed = time()-ai_speed\n",
        "\n",
        "bisect_speed = time()\n",
        "ivols_bs = test_data.apply(lambda x: impliedVol(x[\"spots\"], x[\"rates\"], x[\"strikes\"], x[\"tenors\"], x[\"optionPrices\"]), axis=1)\n",
        "bisect_speed = time()-bisect_speed"
      ],
      "execution_count": 0,
      "outputs": []
    },
    {
      "cell_type": "code",
      "metadata": {
        "id": "WwnfHYKPDKL7",
        "colab_type": "code",
        "outputId": "ea506290-e1eb-41b2-cca9-177e20d64ffa",
        "colab": {
          "base_uri": "https://localhost:8080/",
          "height": 85
        }
      },
      "source": [
        "print(\"Sample size: {0}\".format(test_data.shape[0]))\n",
        "print(\"ML execution time: {0}\".format(ai_speed))\n",
        "print(\"Bisection execution time: {0}\".format(bisect_speed))\n",
        "print(\"Speedup: {0}\".format(bisect_speed/ai_speed))"
      ],
      "execution_count": 0,
      "outputs": [
        {
          "output_type": "stream",
          "text": [
            "Sample size: 78105\n",
            "ML execution time: 3.00211238861084\n",
            "Bisection execution time: 153.91716408729553\n",
            "Speedup: 51.269620908002466\n"
          ],
          "name": "stdout"
        }
      ]
    },
    {
      "cell_type": "markdown",
      "metadata": {
        "id": "QzUCOydzDeCL",
        "colab_type": "text"
      },
      "source": [
        "### Error benchmark against classic approach\n",
        "\n"
      ]
    },
    {
      "cell_type": "code",
      "metadata": {
        "id": "B59jbaQEDey1",
        "colab_type": "code",
        "outputId": "9e765716-252c-4174-cb34-be59eccf6573",
        "colab": {
          "base_uri": "https://localhost:8080/",
          "height": 305
        }
      },
      "source": [
        "plt.hist(error, bins = 50, range=(-0.015, 0.015))\n",
        "plt.xlabel(\"Prediction Error [vols]\")"
      ],
      "execution_count": 0,
      "outputs": [
        {
          "output_type": "execute_result",
          "data": {
            "text/plain": [
              "Text(0.5, 0, 'Prediction Error [vols]')"
            ]
          },
          "metadata": {
            "tags": []
          },
          "execution_count": 39
        },
        {
          "output_type": "display_data",
          "data": {
            "image/png": "[encoded data removed]",
            "text/plain": [
              "<Figure size 432x288 with 1 Axes>"
            ]
          },
          "metadata": {
            "tags": []
          }
        }
      ]
    },
    {
      "cell_type": "code",
      "metadata": {
        "colab_type": "code",
        "outputId": "f09770ec-8ff0-4d41-8359-cc9dcaf381ac",
        "id": "Hsn3NSK8DfOo",
        "colab": {
          "base_uri": "https://localhost:8080/",
          "height": 305
        }
      },
      "source": [
        "error_bs = ivols_bs-test_labels\n",
        "plt.hist(error_bs, bins = 50, range=(-0.01, 0.01))\n",
        "plt.xlabel(\"Calibration Error [vols]\")"
      ],
      "execution_count": 0,
      "outputs": [
        {
          "output_type": "execute_result",
          "data": {
            "text/plain": [
              "Text(0.5, 0, 'Calibration Error [vols]')"
            ]
          },
          "metadata": {
            "tags": []
          },
          "execution_count": 42
        },
        {
          "output_type": "display_data",
          "data": {
            "image/png": "[encoded data removed]",
            "text/plain": [
              "<Figure size 432x288 with 1 Axes>"
            ]
          },
          "metadata": {
            "tags": []
          }
        }
      ]
    }
  ]
}
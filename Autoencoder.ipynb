{
  "nbformat": 4,
  "nbformat_minor": 0,
  "metadata": {
    "colab": {
      "name": "Autoencoder.ipynb",
      "version": "0.3.2",
      "provenance": [],
      "collapsed_sections": [],
      "toc_visible": true,
      "include_colab_link": true
    },
    "kernelspec": {
      "name": "python3",
      "display_name": "Python 3"
    }
  },
  "cells": [
    {
      "cell_type": "markdown",
      "metadata": {
        "id": "view-in-github",
        "colab_type": "text"
      },
      "source": [
        "<a href=\"https://colab.research.google.com/github/suren777/Ml-AI-in-finance/blob/master/Autoencoder.ipynb\" target=\"_parent\"><img src=\"https://colab.research.google.com/assets/colab-badge.svg\" alt=\"Open In Colab\"/></a>"
      ]
    },
    {
      "metadata": {
        "id": "u3Mtmcl36Mnr",
        "colab_type": "text"
      },
      "cell_type": "markdown",
      "source": [
        "# Neural networks for curve predicrtion"
      ]
    },
    {
      "metadata": {
        "id": "Vg5h_NLo6JcA",
        "colab_type": "code",
        "colab": {}
      },
      "cell_type": "code",
      "source": [
        "!pip install -q keras"
      ],
      "execution_count": 0,
      "outputs": []
    },
    {
      "metadata": {
        "id": "GNL1QxoRwD9T",
        "colab_type": "code",
        "colab": {}
      },
      "cell_type": "code",
      "source": [
        ""
      ],
      "execution_count": 0,
      "outputs": []
    },
    {
      "metadata": {
        "id": "tatG9UDt01OT",
        "colab_type": "code",
        "outputId": "09350749-f033-4f1e-c47a-ab3cd219e43c",
        "colab": {
          "base_uri": "https://localhost:8080/",
          "height": 33
        }
      },
      "cell_type": "code",
      "source": [
        "from keras.models import Model, save_model, load_model \n",
        "from keras.layers import Dense, Input, Dropout\n",
        "from keras.optimizers import Adam\n",
        "from keras import regularizers\n",
        "import pandas as pd \n",
        "import numpy as np \n",
        "import matplotlib.pyplot as plt\n",
        "import matplotlib as mpl\n",
        "from sklearn import preprocessing\n",
        "from six.moves import urllib\n",
        "from six.moves import xrange  # pylint: disable=redefined-builtin\n",
        "import xml.etree.cElementTree as et\n",
        "from copy import deepcopy\n",
        "import os\n",
        "from sklearn.model_selection import train_test_split"
      ],
      "execution_count": 0,
      "outputs": [
        {
          "output_type": "stream",
          "text": [
            "Using TensorFlow backend.\n"
          ],
          "name": "stderr"
        }
      ]
    },
    {
      "metadata": {
        "id": "i_daom7G57WZ",
        "colab_type": "text"
      },
      "cell_type": "markdown",
      "source": [
        "## Data extraction\n",
        "We use US Treasury data, available online. Following code downloads xmls and parse them into dataframe object."
      ]
    },
    {
      "metadata": {
        "id": "mprqFOVI51zq",
        "colab_type": "code",
        "colab": {}
      },
      "cell_type": "code",
      "source": [
        "link = r\"https://www.treasury.gov/resource-center/data-chart-center/interest-rates/pages/XmlView.aspx?data=yieldyear&year=\"\n",
        "years = [2000 + y for y  in range(2,19)]\n",
        "#years = [2018]\n",
        "\n",
        "def read_xml(file):\n",
        "    parseXML = et.parse(file)\n",
        "    curve = []\n",
        "    curve_labels = []\n",
        "    first = True\n",
        "    for node in parseXML.getroot():\n",
        "        try:\n",
        "            aux = node.find(\"{http://www.w3.org/2005/Atom}content\").find('{http://schemas.microsoft.com/ado/2007/08/dataservices/metadata}properties')\n",
        "            curve.append([elem.text for elem in aux])\n",
        "            if first:\n",
        "                curve_labels=[elem.tag.split('}')[1] for elem in aux]\n",
        "                first = False\n",
        "        except:\n",
        "            pass\n",
        "    return curve, curve_labels\n",
        "\n",
        "def maybe_download(filename):\n",
        "    if not os.path.exists(filename):\n",
        "        first = True\n",
        "        total = []\n",
        "        labels = None\n",
        "        for y in years:\n",
        "            aux= urllib.request.urlopen(link+str(y))\n",
        "            if first:\n",
        "                curve, labels = read_xml(aux) \n",
        "                first                = False\n",
        "            else:\n",
        "                curve, _ = read_xml(aux)\n",
        "            total.extend(deepcopy(curve))\n",
        "        pd.DataFrame(total, columns = labels).sort_values(by='Id').to_csv(filename)\n",
        "\n",
        "maybe_download(\"dataset.csv\")\n"
      ],
      "execution_count": 0,
      "outputs": []
    },
    {
      "metadata": {
        "id": "SxPaaIcR6Xa7",
        "colab_type": "text"
      },
      "cell_type": "markdown",
      "source": [
        "## Training dataset\n",
        "In order to fix data from NaN values we first train autoencoder, on the train dataset.\n",
        "We first do some tweaks to the data.\n",
        "Secondly we define our autoencoder Layers using Keras. Still need to figure out optimal settings for it."
      ]
    },
    {
      "metadata": {
        "id": "TcSnXfEf6V4W",
        "colab_type": "code",
        "colab": {}
      },
      "cell_type": "code",
      "source": [
        "\n",
        "dataset = pd.read_csv('dataset.csv')[2260:]\n",
        "val = dataset.drop(columns=dataset.columns[:3])\n",
        "cols = dataset.columns[3:]\n",
        "train = val.dropna().values/100.\n",
        "val =val.values/100.\n",
        "val[np.isnan(val)]=0\n",
        " \n",
        "#scaler = preprocessing.StandardScaler().fit(train)\n",
        "#train = scaler.transform(train)"
      ],
      "execution_count": 0,
      "outputs": []
    },
    {
      "metadata": {
        "id": "c9S3qarog_Sg",
        "colab_type": "code",
        "outputId": "7a846b4c-bbc3-4c13-c139-720481dea86e",
        "colab": {
          "base_uri": "https://localhost:8080/",
          "height": 50
        }
      },
      "cell_type": "code",
      "source": [
        "print(train.shape)\n",
        "print(val.shape)"
      ],
      "execution_count": 0,
      "outputs": [
        {
          "output_type": "stream",
          "text": [
            "(51, 13)\n",
            "(1995, 13)\n"
          ],
          "name": "stdout"
        }
      ]
    },
    {
      "metadata": {
        "id": "4QjA7_Lj-lDY",
        "colab_type": "text"
      },
      "cell_type": "markdown",
      "source": [
        "## Autoencoder \n",
        "\n",
        "---\n",
        "\n"
      ]
    },
    {
      "metadata": {
        "id": "hhBgHtrU-wzu",
        "colab_type": "code",
        "outputId": "6e913bf3-5d85-4787-8993-71b0e3015b0f",
        "colab": {
          "base_uri": "https://localhost:8080/",
          "height": 203
        }
      },
      "cell_type": "code",
      "source": [
        "N,M = train.shape # dimensions of the input data\n",
        "\n",
        "hidden_layers = M-1\n",
        "drop_rate=0.2\n",
        "\n",
        "retrain = True\n",
        "if retrain: \n",
        "  !rm autoencoder_model.h5\n",
        "\n",
        "\n",
        "autoencoder_file = 'autoencoder_model.h5'\n",
        "try:\n",
        "    autoencoder = load_model(autoencoder_file)\n",
        "except:\n",
        "    input_data = Input(shape=(M,))\n",
        "    hidden1=Dense(hidden_layers, activation='tanh')(input_data)\n",
        "    drop1=Dropout(drop_rate)(hidden1)\n",
        "    hidden2=Dense(int(hidden_layers/2), activation='tanh')(hidden1)\n",
        "    drop2=Dropout(drop_rate)(hidden2)\n",
        "    hidden3=Dense(hidden_layers, activation='tanh')(drop2)\n",
        "    drop3=Dropout(drop_rate)(hidden3)\n",
        "    out=Dense(M,activation='tanh')(drop3)\n",
        "\n",
        "    autoencoder = Model(input_data, out)\n",
        "    autoencoder.compile(optimizer=Adam(lr=0.0001), loss='mean_squared_error')\n",
        "\n",
        "    autoencoder.fit(x=train, y=train, shuffle=True, epochs=20000, batch_size=1024, verbose=0)\n",
        "    save_model(autoencoder,autoencoder_file)\n"
      ],
      "execution_count": 0,
      "outputs": [
        {
          "output_type": "stream",
          "text": [
            "rm: cannot remove 'autoencoder_model.h5': No such file or directory\n",
            "WARNING:tensorflow:From /usr/local/lib/python3.6/dist-packages/tensorflow/python/framework/op_def_library.py:263: colocate_with (from tensorflow.python.framework.ops) is deprecated and will be removed in a future version.\n",
            "Instructions for updating:\n",
            "Colocations handled automatically by placer.\n",
            "WARNING:tensorflow:From /usr/local/lib/python3.6/dist-packages/keras/backend/tensorflow_backend.py:3445: calling dropout (from tensorflow.python.ops.nn_ops) with keep_prob is deprecated and will be removed in a future version.\n",
            "Instructions for updating:\n",
            "Please use `rate` instead of `keep_prob`. Rate should be set to `rate = 1 - keep_prob`.\n",
            "WARNING:tensorflow:From /usr/local/lib/python3.6/dist-packages/tensorflow/python/ops/math_ops.py:3066: to_int32 (from tensorflow.python.ops.math_ops) is deprecated and will be removed in a future version.\n",
            "Instructions for updating:\n",
            "Use tf.cast instead.\n"
          ],
          "name": "stdout"
        }
      ]
    },
    {
      "metadata": {
        "id": "58RhbF7nCwrG",
        "colab_type": "code",
        "outputId": "cd79d51c-eb52-448a-e8c7-bdf2a45bb18a",
        "colab": {
          "base_uri": "https://localhost:8080/",
          "height": 33
        }
      },
      "cell_type": "code",
      "source": [
        "!ls\n"
      ],
      "execution_count": 0,
      "outputs": [
        {
          "output_type": "stream",
          "text": [
            "autoencoder_model.h5  dataset.csv  sample_data\n"
          ],
          "name": "stdout"
        }
      ]
    },
    {
      "metadata": {
        "id": "12DXpFQj-WO0",
        "colab_type": "text"
      },
      "cell_type": "markdown",
      "source": [
        "### Plot Results"
      ]
    },
    {
      "metadata": {
        "id": "atPZAtCj-aEY",
        "colab_type": "code",
        "outputId": "8c0ee3b7-55d3-40ad-ab20-17241118382f",
        "colab": {
          "base_uri": "https://localhost:8080/",
          "height": 347
        }
      },
      "cell_type": "code",
      "source": [
        "val_new = autoencoder.predict(val) # get values from autoencoder\n",
        "n = np.random.choice(len(val_new))# plot number\n",
        "plt.clf()\n",
        "plt.plot(val_new[n],'r-')\n",
        "plt.plot(val[n],'b-')\n",
        "plt.legend(['predicted','actual'])\n",
        "plt.show()"
      ],
      "execution_count": 0,
      "outputs": [
        {
          "output_type": "display_data",
          "data": {
            "image/png": "[encoded data removed]",
            "text/plain": [
              "<Figure size 576x396 with 1 Axes>"
            ]
          },
          "metadata": {
            "tags": []
          }
        }
      ]
    },
    {
      "metadata": {
        "id": "GeHq7OsDCJN4",
        "colab_type": "text"
      },
      "cell_type": "markdown",
      "source": [
        "# Prediction model for the curve data"
      ]
    },
    {
      "metadata": {
        "id": "NsPboQHPCaxP",
        "colab_type": "text"
      },
      "cell_type": "markdown",
      "source": [
        "Firstly we need to prepare the training data. \n",
        "At the moment val_new is a time series of yiel curves ($R_t(T_0),...,R_t(T_N)$)\n",
        "We want to predict the change in the curve value over time. \n",
        "From the paper (on prediction):\n",
        "* Input = $(R_t(T_0),...,R_t(T_N), \\delta R_t(T_0))$\n",
        "* Output = $(\\delta R_t(T_0),..., \\delta R_t(T_N))$"
      ]
    },
    {
      "metadata": {
        "id": "oZn0ukXKe-k6",
        "colab_type": "code",
        "colab": {}
      },
      "cell_type": "code",
      "source": [
        "yield_move = val_new[1:]-val_new[:-1]\n",
        "X = np.hstack((val_new[:-1],yield_move[:,9:10]))\n",
        "y = yield_move\n",
        "split_pct=0.8\n",
        "N,M = X.shape\n",
        "test = int(N*split_pct)\n",
        "X_train, X_test, y_train, y_test = train_test_split(X, y, test_size=0.33, random_state=42)"
      ],
      "execution_count": 0,
      "outputs": []
    },
    {
      "metadata": {
        "id": "abeeMg8tfD4y",
        "colab_type": "text"
      },
      "cell_type": "markdown",
      "source": [
        "Next we define layers of our network\n",
        "\n",
        "* We also define regularisation parameter $\\alpha$\n"
      ]
    },
    {
      "metadata": {
        "id": "53aQKuDVfTkt",
        "colab_type": "code",
        "colab": {}
      },
      "cell_type": "code",
      "source": [
        "alpha=0.0001\n",
        "dp=0.2\n",
        "inp_layer = Input(shape=(M,))\n",
        "lnn1 = Dense(M+1, activation='tanh')(inp_layer)\n",
        "dropr1 = Dropout(dp)(lnn1)\n",
        "lnn2 = Dense(M+1, activation='tanh')(dropr1)\n",
        "dropr2 = Dropout(dp)(lnn2)\n",
        "output = Dense(M-1, activation='tanh')(dropr2)"
      ],
      "execution_count": 0,
      "outputs": []
    },
    {
      "metadata": {
        "id": "2pifb7fIfmpE",
        "colab_type": "text"
      },
      "cell_type": "markdown",
      "source": [
        "Define the model:"
      ]
    },
    {
      "metadata": {
        "id": "igbMpuc1fpTw",
        "colab_type": "code",
        "colab": {}
      },
      "cell_type": "code",
      "source": [
        "regressor = Model(inp_layer, output)\n",
        "regressor.compile(optimizer=Adam(lr=0.0001), loss='mean_squared_error')"
      ],
      "execution_count": 0,
      "outputs": []
    },
    {
      "metadata": {
        "id": "uC9I2g2EfrID",
        "colab_type": "text"
      },
      "cell_type": "markdown",
      "source": [
        "**Train the model:**"
      ]
    },
    {
      "metadata": {
        "id": "3wRfs5m3CO6Y",
        "colab_type": "code",
        "outputId": "ab8ec6c4-16a2-457b-905c-39b62d3f1b4c",
        "colab": {
          "base_uri": "https://localhost:8080/",
          "height": 33
        }
      },
      "cell_type": "code",
      "source": [
        "regressor.fit(x=X_train, y=y_train, shuffle=True, epochs=50000, batch_size=1024, verbose=0)"
      ],
      "execution_count": 0,
      "outputs": [
        {
          "output_type": "execute_result",
          "data": {
            "text/plain": [
              "<keras.callbacks.History at 0x7fa7e2b9f860>"
            ]
          },
          "metadata": {
            "tags": []
          },
          "execution_count": 11
        }
      ]
    },
    {
      "metadata": {
        "id": "2RAOtIUFHS5m",
        "colab_type": "text"
      },
      "cell_type": "markdown",
      "source": [
        "## Plot Results"
      ]
    },
    {
      "metadata": {
        "id": "Kg3axd9mNQKj",
        "colab_type": "code",
        "outputId": "43fe06e4-0692-4d2a-ea37-22396d626479",
        "colab": {
          "base_uri": "https://localhost:8080/",
          "height": 347
        }
      },
      "cell_type": "code",
      "source": [
        "validation = regressor.predict(X_test)\n",
        "m=len(validation)\n",
        "\n",
        "m1 = np.random.choice(m)\n",
        "\n",
        "plt.plot(validation[m1],'r-')\n",
        "plt.plot(y_test[m1],'b-')\n",
        "plt.legend(['predicted', 'actual'])\n",
        "plt.show()"
      ],
      "execution_count": 0,
      "outputs": [
        {
          "output_type": "display_data",
          "data": {
            "image/png": "[encoded data removed]",
            "text/plain": [
              "<Figure size 576x396 with 1 Axes>"
            ]
          },
          "metadata": {
            "tags": []
          }
        }
      ]
    }
  ]
}